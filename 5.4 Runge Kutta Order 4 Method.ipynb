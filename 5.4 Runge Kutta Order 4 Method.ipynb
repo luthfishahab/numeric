{
 "cells": [
  {
   "cell_type": "code",
   "execution_count": 1,
   "metadata": {},
   "outputs": [],
   "source": [
    "# Example 3, Page 289 - Numerical Analysis, Burden, Faires"
   ]
  },
  {
   "cell_type": "code",
   "execution_count": 2,
   "metadata": {},
   "outputs": [],
   "source": [
    "import numpy as np\n",
    "import matplotlib.pyplot as plt\n",
    "import math"
   ]
  },
  {
   "cell_type": "code",
   "execution_count": 3,
   "metadata": {},
   "outputs": [],
   "source": [
    "def RungeKuttaOrder4Method(a, b, N, alpha):\n",
    "    array_t = []\n",
    "    array_w = []\n",
    "    \n",
    "    h = (b-a)/N\n",
    "    t = a\n",
    "    w = alpha\n",
    "    \n",
    "    array_t.append(t)\n",
    "    array_w.append(w)\n",
    "\n",
    "    for i in range(1, N+1):\n",
    "        K1 = h*F(t,w)\n",
    "        K2 = h*F(t+h/2, w+K1/2)\n",
    "        K3 = h*F(t+h/2, w+K2/2)\n",
    "        K4 = h*F(t+h, w+K3)\n",
    "        \n",
    "        w = w + (K1+2*K2+2*K3+K4)/6\n",
    "        t = a + i*h\n",
    "        \n",
    "        array_t.append(t)\n",
    "        array_w.append(w)\n",
    "    \n",
    "    return array_t, array_w"
   ]
  },
  {
   "cell_type": "code",
   "execution_count": 4,
   "metadata": {},
   "outputs": [],
   "source": [
    "def F(t, y):\n",
    "    return y - t**2 + 1"
   ]
  },
  {
   "cell_type": "code",
   "execution_count": 5,
   "metadata": {},
   "outputs": [],
   "source": [
    "def Y(t):\n",
    "    return (t+1)**2 - 0.5*math.exp(t)"
   ]
  },
  {
   "cell_type": "code",
   "execution_count": 6,
   "metadata": {},
   "outputs": [],
   "source": [
    "r, w = RungeKuttaOrder4Method(0, 2, 10, 0.5)"
   ]
  },
  {
   "cell_type": "code",
   "execution_count": 7,
   "metadata": {},
   "outputs": [],
   "source": [
    "y = []\n",
    "for t in r:\n",
    "    y.append(Y(t))"
   ]
  },
  {
   "cell_type": "code",
   "execution_count": 8,
   "metadata": {},
   "outputs": [
    {
     "data": {
      "image/png": "[encoded data removed]",
      "text/plain": [
       "<Figure size 432x288 with 1 Axes>"
      ]
     },
     "metadata": {
      "needs_background": "light"
     },
     "output_type": "display_data"
    }
   ],
   "source": [
    "plt.plot(r, y, marker = '.', label = 'actual y')\n",
    "plt.plot(r, w, marker = '.', label = 'predicted y')\n",
    "\n",
    "plt.xlabel(\"t\")\n",
    "plt.ylabel(\"y\")\n",
    "plt.legend()\n",
    "\n",
    "plt.show()"
   ]
  }
 ],
 "metadata": {
  "kernelspec": {
   "display_name": "Python 3",
   "language": "python",
   "name": "python3"
  },
  "language_info": {
   "codemirror_mode": {
    "name": "ipython",
    "version": 3
   },
   "file_extension": ".py",
   "mimetype": "text/x-python",
   "name": "python",
   "nbconvert_exporter": "python",
   "pygments_lexer": "ipython3",
   "version": "3.8.3"
  }
 },
 "nbformat": 4,
 "nbformat_minor": 4
}
