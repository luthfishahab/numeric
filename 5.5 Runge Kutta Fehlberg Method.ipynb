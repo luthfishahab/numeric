{
 "cells": [
  {
   "cell_type": "code",
   "execution_count": 1,
   "metadata": {},
   "outputs": [],
   "source": [
    "# Example 1, Page 298 - Numerical Analysis, Burden, Faires"
   ]
  },
  {
   "cell_type": "code",
   "execution_count": 2,
   "metadata": {},
   "outputs": [],
   "source": [
    "import numpy as np\n",
    "import matplotlib.pyplot as plt\n",
    "import math"
   ]
  },
  {
   "cell_type": "code",
   "execution_count": 3,
   "metadata": {},
   "outputs": [],
   "source": [
    "def RungeKuttaFehlbergMethod(a, b, alpha, TOL, hmax, hmin):\n",
    "    array_t = []\n",
    "    array_w = []\n",
    "    \n",
    "    t = a\n",
    "    w = alpha\n",
    "    h = hmax\n",
    "    FLAG = 1\n",
    "    \n",
    "    array_t.append(t)\n",
    "    array_w.append(w)\n",
    "\n",
    "    while FLAG == 1:\n",
    "        K1 = h*F(t,w)\n",
    "        K2 = h*F(t+(1/4)*h, w+(1/4)*K1)\n",
    "        K3 = h*F(t+(3/8)*h, w+(3/32)*K1+(9/32)*K2)\n",
    "        K4 = h*F(t+(12/13)*h, w+(1932/2197)*K1-(7200/2197)*K2+(7296/2197)*K3)\n",
    "        K5 = h*F(t+h, w+(439/216)*K1-8*K2+(3680/513)*K3-(845/4104)*K4)\n",
    "        K6 = h*F(t+(1/2)*h, w-(8/27)*K1+2*K2-(3544/2565)*K3+(1859/4104)*K4-(11/40)*K5)\n",
    "        \n",
    "        R = (1/h)*abs((1/360)*K1-(128/4275)*K3-(2197/75240)*K4+(1/50)*K5+(2/55)*K6)\n",
    "        \n",
    "        if R <= TOL:\n",
    "            t = t + h\n",
    "            w = w + (25/216)*K1 + (1408/2565)*K3 + (2197/4104)*K4 - (1/5)*K5\n",
    "        \n",
    "            array_t.append(t)\n",
    "            array_w.append(w)\n",
    "        \n",
    "        delta = 0.84*pow((TOL/R), (1/4))\n",
    "        \n",
    "        if delta <= 0.1:\n",
    "            h = 0.1*h\n",
    "        elif delta >= 4:\n",
    "            h = 4*h\n",
    "        else:\n",
    "            h = delta*h\n",
    "        \n",
    "        if h > hmax:\n",
    "            h = hmax\n",
    "\n",
    "        if t >= b:\n",
    "            FLAG = 0\n",
    "        elif t+h > b:\n",
    "            h = b-t\n",
    "        elif h < hmin:\n",
    "            FLAG = 0\n",
    "        \n",
    "    return array_t, array_w"
   ]
  },
  {
   "cell_type": "code",
   "execution_count": 4,
   "metadata": {},
   "outputs": [],
   "source": [
    "def F(t, y):\n",
    "    return y - t**2 + 1"
   ]
  },
  {
   "cell_type": "code",
   "execution_count": 5,
   "metadata": {},
   "outputs": [],
   "source": [
    "def Y(t):\n",
    "    return (t+1)**2 - 0.5*math.exp(t)"
   ]
  },
  {
   "cell_type": "code",
   "execution_count": 6,
   "metadata": {},
   "outputs": [],
   "source": [
    "r, w = RungeKuttaFehlbergMethod(0, 2, 0.5, pow(10,-5), 0.25, 0.01)"
   ]
  },
  {
   "cell_type": "code",
   "execution_count": 7,
   "metadata": {},
   "outputs": [],
   "source": [
    "y = []\n",
    "for t in r:\n",
    "    y.append(Y(t))"
   ]
  },
  {
   "cell_type": "code",
   "execution_count": 8,
   "metadata": {},
   "outputs": [
    {
     "data": {
      "image/png": "[encoded data removed]",
      "text/plain": [
       "<Figure size 432x288 with 1 Axes>"
      ]
     },
     "metadata": {
      "needs_background": "light"
     },
     "output_type": "display_data"
    }
   ],
   "source": [
    "plt.plot(r, y, marker = '.', label = 'actual y')\n",
    "plt.plot(r, w, marker = '.', label = 'predicted y')\n",
    "\n",
    "plt.xlabel(\"t\")\n",
    "plt.ylabel(\"y\")\n",
    "plt.legend()\n",
    "\n",
    "plt.show()"
   ]
  }
 ],
 "metadata": {
  "kernelspec": {
   "display_name": "Python 3",
   "language": "python",
   "name": "python3"
  },
  "language_info": {
   "codemirror_mode": {
    "name": "ipython",
    "version": 3
   },
   "file_extension": ".py",
   "mimetype": "text/x-python",
   "name": "python",
   "nbconvert_exporter": "python",
   "pygments_lexer": "ipython3",
   "version": "3.8.3"
  }
 },
 "nbformat": 4,
 "nbformat_minor": 4
}
