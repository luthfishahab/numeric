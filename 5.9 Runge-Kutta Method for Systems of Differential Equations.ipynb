{
 "cells": [
  {
   "cell_type": "code",
   "execution_count": 1,
   "metadata": {},
   "outputs": [],
   "source": [
    "# Exercise 1a, Page 337 - Numerical Analysis, Burden, Faires"
   ]
  },
  {
   "cell_type": "code",
   "execution_count": 2,
   "metadata": {},
   "outputs": [],
   "source": [
    "import numpy as np\n",
    "import matplotlib.pyplot as plt\n",
    "import math"
   ]
  },
  {
   "cell_type": "code",
   "execution_count": 3,
   "metadata": {},
   "outputs": [],
   "source": [
    "def RungeKuttaMethod(a, b, m, N, alpha1, alpha2):\n",
    "    t = []\n",
    "    w1 = []\n",
    "    w2 = []\n",
    "    \n",
    "    h = (b-a)/N\n",
    "    \n",
    "    t.append(a)\n",
    "    w1.append(alpha1)\n",
    "    w2.append(alpha2)\n",
    "    \n",
    "    for i in range(1, N+1):\n",
    "        K11 = h*F1(t[i-1], w1[i-1], w2[i-1])\n",
    "        K12 = h*F2(t[i-1], w1[i-1], w2[i-1])\n",
    "        \n",
    "        K21 = h*F1(t[i-1]+h/2, w1[i-1]+K11/2, w2[i-1]+K12/2)\n",
    "        K22 = h*F2(t[i-1]+h/2, w1[i-1]+K11/2, w2[i-1]+K12/2)\n",
    "        \n",
    "        K31 = h*F1(t[i-1]+h/2, w1[i-1]+K21/2, w2[i-1]+K22/2)\n",
    "        K32 = h*F2(t[i-1]+h/2, w1[i-1]+K21/2, w2[i-1]+K22/2)\n",
    "        \n",
    "        K41 = h*F1(t[i-1]+h, w1[i-1]+K31, w2[i-1]+K32)\n",
    "        K42 = h*F2(t[i-1]+h, w1[i-1]+K31, w2[i-1]+K32)\n",
    "        \n",
    "        t.append(a + i*h)\n",
    "        w1.append(w1[i-1] + (K11+2*K21+2*K31+K41)/6)\n",
    "        w2.append(w2[i-1] + (K12+2*K22+2*K32+K42)/6)\n",
    "    \n",
    "    return t, w1, w2"
   ]
  },
  {
   "cell_type": "code",
   "execution_count": 4,
   "metadata": {},
   "outputs": [],
   "source": [
    "def F1(t, u1, u2):\n",
    "    return 3*u1 + 2*u2 - (2*pow(t,2)+1)*math.exp(2*t)"
   ]
  },
  {
   "cell_type": "code",
   "execution_count": 5,
   "metadata": {},
   "outputs": [],
   "source": [
    "def F2(t, u1, u2):\n",
    "    return 4*u1 + u2 - (pow(t,2)+2*t-4)*math.exp(2*t) "
   ]
  },
  {
   "cell_type": "code",
   "execution_count": 6,
   "metadata": {},
   "outputs": [],
   "source": [
    "def Y1(t):\n",
    "    return (1/3)*math.exp(5*t) - (1/3)*math.exp(-t) + math.exp(2*t)"
   ]
  },
  {
   "cell_type": "code",
   "execution_count": 7,
   "metadata": {},
   "outputs": [],
   "source": [
    "def Y2(t):\n",
    "    return (1/3)*math.exp(5*t) + (2/3)*math.exp(-t) + pow(t,2)*math.exp(2*t)"
   ]
  },
  {
   "cell_type": "code",
   "execution_count": 8,
   "metadata": {},
   "outputs": [],
   "source": [
    "r, w1, w2 = RungeKuttaMethod(0, 1, 2, 5, 1, 1)"
   ]
  },
  {
   "cell_type": "code",
   "execution_count": 9,
   "metadata": {},
   "outputs": [],
   "source": [
    "y1 = []\n",
    "y2 = []\n",
    "for t in r:\n",
    "    y1.append(Y1(t))\n",
    "    y2.append(Y2(t))"
   ]
  },
  {
   "cell_type": "code",
   "execution_count": 10,
   "metadata": {},
   "outputs": [
    {
     "data": {
      "image/png": "[encoded data removed]",
      "text/plain": [
       "<Figure size 432x288 with 1 Axes>"
      ]
     },
     "metadata": {
      "needs_background": "light"
     },
     "output_type": "display_data"
    }
   ],
   "source": [
    "plt.plot(r, y1, marker = '.', label = 'actual y1')\n",
    "plt.plot(r, w1, marker = '.', label = 'predicted y1')\n",
    "\n",
    "plt.plot(r, y2, marker = '.', label = 'actual y2')\n",
    "plt.plot(r, w2, marker = '.', label = 'predicted y2')\n",
    "\n",
    "plt.xlabel(\"t\")\n",
    "plt.ylabel(\"y\")\n",
    "plt.legend()\n",
    "\n",
    "plt.show()"
   ]
  },
  {
   "cell_type": "code",
   "execution_count": null,
   "metadata": {},
   "outputs": [],
   "source": []
  }
 ],
 "metadata": {
  "kernelspec": {
   "display_name": "Python 3",
   "language": "python",
   "name": "python3"
  },
  "language_info": {
   "codemirror_mode": {
    "name": "ipython",
    "version": 3
   },
   "file_extension": ".py",
   "mimetype": "text/x-python",
   "name": "python",
   "nbconvert_exporter": "python",
   "pygments_lexer": "ipython3",
   "version": "3.8.3"
  }
 },
 "nbformat": 4,
 "nbformat_minor": 4
}
