{
 "cells": [
  {
   "cell_type": "code",
   "execution_count": 1,
   "metadata": {},
   "outputs": [],
   "source": [
    "# Example 5, Page 311 - Numerical Analysis, Burden, Faires"
   ]
  },
  {
   "cell_type": "code",
   "execution_count": 2,
   "metadata": {},
   "outputs": [],
   "source": [
    "import numpy as np\n",
    "import matplotlib.pyplot as plt\n",
    "import math"
   ]
  },
  {
   "cell_type": "code",
   "execution_count": 3,
   "metadata": {},
   "outputs": [],
   "source": [
    "def AdamsFourthOrderPredictorCorrectorMethod(a, b, N, alpha):\n",
    "    t = []\n",
    "    w = []\n",
    "    \n",
    "    h = (b-a)/N\n",
    "    \n",
    "    t.append(a)\n",
    "    w.append(alpha)\n",
    "    \n",
    "    for i in range(1, 4):\n",
    "        K1 = h*F(t[i-1],w[i-1])\n",
    "        K2 = h*F(t[i-1]+h/2, w[i-1]+K1/2)\n",
    "        K3 = h*F(t[i-1]+h/2, w[i-1]+K2/2)\n",
    "        K4 = h*F(t[i-1]+h, w[i-1]+K3)\n",
    "        \n",
    "        t.append(a + i*h)\n",
    "        w.append(w[i-1] + (K1+2*K2+2*K3+K4)/6)\n",
    "    \n",
    "    for i in range(4, N+1):\n",
    "        t.append(a + i*h)\n",
    "        w.append(w[i-1] + h*(55*F(t[i-1], w[i-1]) - 59*F(t[i-2], w[i-2]) + 37*F(t[i-3], w[i-3]) -9*F(t[i-4], w[i-4]))/24)\n",
    "        w[i] = w[i-1] + h*(9*F(t[i], w[i]) + 19*F(t[i-1], w[i-1]) - 5*F(t[i-2], w[i-2]) + F(t[i-3], w[i-3]))/24\n",
    "    \n",
    "    return t, w"
   ]
  },
  {
   "cell_type": "code",
   "execution_count": 4,
   "metadata": {},
   "outputs": [],
   "source": [
    "def F(t, y):\n",
    "    return y - t**2 + 1"
   ]
  },
  {
   "cell_type": "code",
   "execution_count": 5,
   "metadata": {},
   "outputs": [],
   "source": [
    "def Y(t):\n",
    "    return (t+1)**2 - 0.5*math.exp(t)"
   ]
  },
  {
   "cell_type": "code",
   "execution_count": 6,
   "metadata": {},
   "outputs": [],
   "source": [
    "r, w = AdamsFourthOrderPredictorCorrectorMethod(0, 2, 10, 0.5)"
   ]
  },
  {
   "cell_type": "code",
   "execution_count": 7,
   "metadata": {},
   "outputs": [],
   "source": [
    "y = []\n",
    "for t in r:\n",
    "    y.append(Y(t))"
   ]
  },
  {
   "cell_type": "code",
   "execution_count": 8,
   "metadata": {},
   "outputs": [
    {
     "data": {
      "image/png": "[encoded data removed]",
      "text/plain": [
       "<Figure size 432x288 with 1 Axes>"
      ]
     },
     "metadata": {
      "needs_background": "light"
     },
     "output_type": "display_data"
    }
   ],
   "source": [
    "plt.plot(r, y, marker = '.', label = 'actual y')\n",
    "plt.plot(r, w, marker = '.', label = 'predicted y')\n",
    "\n",
    "plt.xlabel(\"t\")\n",
    "plt.ylabel(\"y\")\n",
    "plt.legend()\n",
    "\n",
    "plt.show()"
   ]
  },
  {
   "cell_type": "code",
   "execution_count": 9,
   "metadata": {},
   "outputs": [
    {
     "data": {
      "text/plain": [
       "[0.5,\n",
       " 0.8292933333333334,\n",
       " 1.2140762106666667,\n",
       " 1.6489220170416001,\n",
       " 2.1272056324187787,\n",
       " 2.640828595969636,\n",
       " 3.1799026354038826,\n",
       " 3.7323504816223303,\n",
       " 4.28342082355015,\n",
       " 4.815096355330386,\n",
       " 5.3053706715158455]"
      ]
     },
     "execution_count": 9,
     "metadata": {},
     "output_type": "execute_result"
    }
   ],
   "source": [
    "w"
   ]
  },
  {
   "cell_type": "code",
   "execution_count": 11,
   "metadata": {},
   "outputs": [
    {
     "data": {
      "text/plain": [
       "[0,\n",
       " 0.2,\n",
       " 0.4,\n",
       " 0.6000000000000001,\n",
       " 0.8,\n",
       " 1.0,\n",
       " 1.2000000000000002,\n",
       " 1.4000000000000001,\n",
       " 1.6,\n",
       " 1.8,\n",
       " 2.0]"
      ]
     },
     "execution_count": 11,
     "metadata": {},
     "output_type": "execute_result"
    }
   ],
   "source": [
    "r"
   ]
  },
  {
   "cell_type": "code",
   "execution_count": null,
   "metadata": {},
   "outputs": [],
   "source": []
  }
 ],
 "metadata": {
  "kernelspec": {
   "display_name": "Python 3",
   "language": "python",
   "name": "python3"
  },
  "language_info": {
   "codemirror_mode": {
    "name": "ipython",
    "version": 3
   },
   "file_extension": ".py",
   "mimetype": "text/x-python",
   "name": "python",
   "nbconvert_exporter": "python",
   "pygments_lexer": "ipython3",
   "version": "3.8.3"
  }
 },
 "nbformat": 4,
 "nbformat_minor": 4
}
